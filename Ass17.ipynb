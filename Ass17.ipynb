{
 "cells": [
  {
   "cell_type": "code",
   "execution_count": null,
   "id": "e56a16a7-6d70-4282-af4a-dc179262d64b",
   "metadata": {
    "tags": []
   },
   "outputs": [
    {
     "name": "stdout",
     "output_type": "stream",
     "text": [
      "Requirement already satisfied: pandas in /opt/conda/lib/python3.10/site-packages (1.5.2)\n",
      "Requirement already satisfied: python-dateutil>=2.8.1 in /opt/conda/lib/python3.10/site-packages (from pandas) (2.8.2)\n",
      "Requirement already satisfied: pytz>=2020.1 in /opt/conda/lib/python3.10/site-packages (from pandas) (2022.7)\n",
      "Requirement already satisfied: numpy>=1.21.0 in /opt/conda/lib/python3.10/site-packages (from pandas) (1.23.5)\n",
      "Requirement already satisfied: six>=1.5 in /opt/conda/lib/python3.10/site-packages (from python-dateutil>=2.8.1->pandas) (1.16.0)\n"
     ]
    }
   ],
   "source": [
    "!pip install pandas\n",
    "import psycopg2\n",
    "from psycopg2.extras import DictCursor\n",
    "import os\n",
    "import pandas as pd\n",
    "from matplotlib import pyplot as plt\n",
    "import seaborn as sns"
   ]
  },
  {
   "cell_type": "code",
   "execution_count": null,
   "id": "8d7c499c-4468-4141-8b31-4b8110cb26a4",
   "metadata": {
    "tags": []
   },
   "outputs": [],
   "source": [
    "sql_host = '10.129.0.25'"
   ]
  },
  {
   "cell_type": "code",
   "execution_count": null,
   "id": "859be337-c567-44a6-8d0b-c1a1dbe191c5",
   "metadata": {
    "tags": []
   },
   "outputs": [],
   "source": [
    "def get_query(query: int):\n",
    "    with psycopg2.connect(\n",
    "        dbname = 'demo',\n",
    "        user = os.environ['POSTGRESQL_USER'],\n",
    "        password = os.environ['POSTGRESQL_PASSWORD'],\n",
    "        host = sql_host\n",
    "    )as c:\n",
    "        with c.cursor() as cur:\n",
    "            cur.execute(query)\n",
    "            res = cur.fetchall()\n",
    "            return res"
   ]
  },
  {
   "cell_type": "code",
   "execution_count": null,
   "id": "232eb0df-4a4c-454f-943f-3481543f160d",
   "metadata": {
    "tags": []
   },
   "outputs": [],
   "source": [
    "#1.1\n",
    "query = \"\"\"\n",
    "SELECT t.passenger_name, f.departure_airport, f.arrival_airport\n",
    "FROM tickets t\n",
    "JOIN ticket_flights tf ON t.ticket_no = tf.ticket_no\n",
    "JOIN flights f ON tf.flight_id = f.flight_id\n",
    "WHERE t.ticket_no = '0005432312164'\n",
    "\"\"\"\n",
    "res = get_query(query)\n",
    "df = pd.DataFrame(res, columns=['passenger_name', 'departure_airport', 'arrival_airport'])\n",
    "df"
   ]
  },
  {
   "cell_type": "code",
   "execution_count": null,
   "id": "d972f74c-3c71-4cb4-8861-ac299d9b3989",
   "metadata": {
    "tags": []
   },
   "outputs": [],
   "source": [
    "#1.2\n",
    "query = \"\"\"\n",
    "SELECT passenger_name, 'N/A' AS departure_airport, 'N/A' AS arrival_airport\n",
    "FROM tickets\n",
    "WHERE ticket_no = '0005432312164'\n",
    "\"\"\"\n",
    "res = get_query(query)\n",
    "df = pd.DataFrame(res, columns=['passenger_name', 'departure_airport', 'arrival_airport'])\n",
    "df"
   ]
  },
  {
   "cell_type": "code",
   "execution_count": null,
   "id": "60d456c8-8d0e-4337-845e-765f3f0cee44",
   "metadata": {
    "tags": []
   },
   "outputs": [],
   "source": [
    "#1.3\n",
    "query = \"\"\"\n",
    "SELECT t.passenger_name, f.departure_airport, f.arrival_airport\n",
    "FROM tickets t\n",
    "JOIN ticket_flights tf ON t.ticket_no = tf.ticket_no\n",
    "JOIN flights f ON tf.flight_id = f.flight_id\n",
    "WHERE t.ticket_no = '0005432312164'\n",
    "\"\"\"\n",
    "res = get_query(query)\n",
    "df = pd.DataFrame(res, columns=['passenger_name', 'departure_airport', 'arrival_airport'])\n",
    "df"
   ]
  },
  {
   "cell_type": "code",
   "execution_count": null,
   "id": "6a1b948e-6f2c-4e4e-bead-bd435c17e30e",
   "metadata": {
    "tags": []
   },
   "outputs": [],
   "source": [
    "#2\n",
    "query = \"\"\"\n",
    "SELECT f.flight_id, departure.city AS departure_city, arrival.city AS arrival_city\n",
    "FROM flights f\n",
    "JOIN ticket_flights tf ON f.flight_id = tf.flight_id\n",
    "JOIN tickets t ON tf.ticket_no = t.ticket_no\n",
    "JOIN airports departure ON f.departure_airport = departure.airport_code\n",
    "JOIN airports arrival ON f.arrival_airport = arrival.airport_code\n",
    "WHERE t.passenger_name = 'ELLA DMITRIEVA'\n",
    "\"\"\"\n",
    "res = get_query(query)\n",
    "df = pd.DataFrame(res, columns=['flight_id', 'departure_city', 'arrival_city'])\n",
    "df"
   ]
  },
  {
   "cell_type": "code",
   "execution_count": null,
   "id": "a72293ec-2116-4440-ac36-17849b1dbc2a",
   "metadata": {
    "tags": []
   },
   "outputs": [],
   "source": [
    "#3\n",
    "query = \"\"\"\n",
    "SELECT *\n",
    "FROM aircrafts\n",
    "LIMIT 5\n",
    "\"\"\"\n",
    "res = get_query(query)\n",
    "df = pd.DataFrame(res)\n",
    "df"
   ]
  },
  {
   "cell_type": "code",
   "execution_count": null,
   "id": "cb321633-f14b-45ee-a4ba-5777ebf60568",
   "metadata": {},
   "outputs": [],
   "source": []
  }
 ],
 "metadata": {
  "kernelspec": {
   "display_name": "Python 3 (ipykernel)",
   "language": "python",
   "name": "python3"
  },
  "language_info": {
   "codemirror_mode": {
    "name": "ipython",
    "version": 3
   },
   "file_extension": ".py",
   "mimetype": "text/x-python",
   "name": "python",
   "nbconvert_exporter": "python",
   "pygments_lexer": "ipython3",
   "version": "3.10.8"
  }
 },
 "nbformat": 4,
 "nbformat_minor": 5
}
